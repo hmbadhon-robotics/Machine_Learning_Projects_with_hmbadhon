{
 "cells": [
  {
   "cell_type": "code",
   "execution_count": 7,
   "id": "66b38497",
   "metadata": {},
   "outputs": [
    {
     "name": "stdout",
     "output_type": "stream",
     "text": [
      "{'below', \"you'd\", \"needn't\", 'how', 'few', 'theirs', 'each', \"should've\", 'shan', 'over', 'needn', 'my', 'yours', 'our', 'but', 'with', 'by', 're', 'hers', 'between', 'those', \"doesn't\", 'won', 's', 'that', 'why', 'don', 'didn', 'ain', 'yourself', \"aren't\", \"you'll\", 'itself', 'very', 'under', 'they', 'hasn', 'ours', 'on', \"mustn't\", \"it's\", 'for', 'after', 't', \"shan't\", 'doing', 'who', 'what', 'had', 'have', \"isn't\", 'mightn', 'which', 'here', 'she', 'about', \"couldn't\", 'isn', 'has', 'than', 'the', 'of', 'his', 'o', 'her', 'so', 'just', \"weren't\", \"haven't\", 'against', 'such', 'll', 'himself', 'mustn', 'no', 'can', \"wouldn't\", 'these', 'wasn', \"that'll\", 'be', 'to', 'wouldn', 'when', 'in', 'during', 'from', 'there', 'all', 'will', 'd', 'doesn', 'if', 'ourselves', 'a', 'should', 'until', 'any', 'some', \"won't\", 'shouldn', 'haven', 'most', 'aren', 'having', 'is', 'being', 'through', 'same', \"mightn't\", 'above', 'me', 'an', 'as', 'ma', 'are', 'once', 'off', 'into', 'do', 'more', \"she's\", 'now', \"shouldn't\", 'him', \"wasn't\", 'couldn', \"you're\", 'both', 'before', 'only', 'yourselves', 'whom', 'themselves', 'out', 'were', 'does', 'hadn', \"hadn't\", 'where', 've', 'your', 'not', 'and', 'then', 'own', \"you've\", 'did', 'weren', 'or', 'down', 'it', 'you', 'them', \"hasn't\", 'further', 'again', 'was', 'other', 'nor', 'this', 'herself', 'i', 'y', 'myself', 'because', 'he', \"don't\", 'been', 'am', 'while', 'up', 'too', 'at', 'its', 'we', 'm', \"didn't\", 'their'}\n",
      "179\n",
      "\n",
      "\n",
      "['This', 'is', 'a', 'sample', 'sentence', ',', 'showing', 'off', 'the', 'stop', 'words', 'filtration', '.']\n",
      "\n",
      "\n",
      "[]\n",
      "\n",
      "\n",
      "['This', 'sample', 'sentence', ',', 'showing', 'stop', 'words', 'filtration', '.']\n"
     ]
    }
   ],
   "source": [
    "from nltk.corpus import stopwords\n",
    "from nltk.tokenize import word_tokenize\n",
    "\n",
    "example_sent = \"\"\" This is a sample sentence, showing off the stop words filtration.\"\"\"\n",
    "\n",
    "\n",
    "#stop_words\n",
    "stop_words = set(stopwords.words('english'))\n",
    "length_of_stop_words = len(stop_words)\n",
    "print(stop_words)\n",
    "print(length_of_stop_words)\n",
    "print(\"\\n\")\n",
    "\n",
    "#word_tokenizer\n",
    "word_tokens = word_tokenize(example_sent)\n",
    "print(word_tokens)\n",
    "print(\"\\n\")\n",
    "\n",
    "#converts the words in word_tokens to lower case and tyhen checks whether\n",
    "#they are present in  stop_words or not\n",
    "\n",
    "\n",
    "# filtered_sentence  =[w for w in word_tokens if not w.lower() in stop_words]\n",
    "# print(filtered_sentence)\n",
    "\n",
    "filtered_sentence = []\n",
    "print(filtered_sentence)\n",
    "\n",
    "for w in word_tokens:\n",
    "    if w not in stop_words:\n",
    "        filtered_sentence.append(w)\n",
    "\n",
    "print(\"\\n\")\n",
    "print(filtered_sentence)\n",
    "\n",
    "\n",
    "\n",
    "\n"
   ]
  },
  {
   "cell_type": "code",
   "execution_count": null,
   "id": "a8b73e89",
   "metadata": {},
   "outputs": [],
   "source": []
  }
 ],
 "metadata": {
  "kernelspec": {
   "display_name": "Python 3 (ipykernel)",
   "language": "python",
   "name": "python3"
  },
  "language_info": {
   "codemirror_mode": {
    "name": "ipython",
    "version": 3
   },
   "file_extension": ".py",
   "mimetype": "text/x-python",
   "name": "python",
   "nbconvert_exporter": "python",
   "pygments_lexer": "ipython3",
   "version": "3.10.4"
  }
 },
 "nbformat": 4,
 "nbformat_minor": 5
}
